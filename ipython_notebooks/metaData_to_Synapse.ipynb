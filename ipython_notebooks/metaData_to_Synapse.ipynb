{
 "metadata": {
  "name": "",
  "signature": "sha256:cea46032001de6a613e42e873613b65987784f7475a25092f39d769861970fde"
 },
 "nbformat": 3,
 "nbformat_minor": 0,
 "worksheets": [
  {
   "cells": [
    {
     "cell_type": "code",
     "collapsed": false,
     "input": [
      "import synapseclient\n",
      "import pandas as pd\n",
      "import re"
     ],
     "language": "python",
     "metadata": {},
     "outputs": [],
     "prompt_number": 15
    },
    {
     "cell_type": "code",
     "collapsed": false,
     "input": [
      "syn = synapseclient.login()"
     ],
     "language": "python",
     "metadata": {},
     "outputs": [
      {
       "output_type": "stream",
       "stream": "stdout",
       "text": [
        "Welcome, Abhishek Pratap!\n"
       ]
      }
     ],
     "prompt_number": 16
    },
    {
     "cell_type": "code",
     "collapsed": false,
     "input": [
      "### temp func to fix the column names\n",
      "\n",
      "def fix_colname(col):\n",
      "    col =  re.sub('[()#]','', col)\n",
      "    col =  re.sub('/','_', col) \n",
      "    col =  re.sub(' $','', col)\n",
      "    col = col.replace(' ','_')\n",
      "    return col"
     ],
     "language": "python",
     "metadata": {},
     "outputs": [],
     "prompt_number": 17
    },
    {
     "cell_type": "markdown",
     "metadata": {},
     "source": [
      "### Pull the wieghloss data"
     ]
    },
    {
     "cell_type": "code",
     "collapsed": false,
     "input": [
      "mdata_weightloss  = syn.get('syn2828024')\n",
      "mdata_weightloss = pd.read_excel(mdata_weightloss.path)"
     ],
     "language": "python",
     "metadata": {},
     "outputs": [],
     "prompt_number": 18
    },
    {
     "cell_type": "code",
     "collapsed": false,
     "input": [
      "#fix colnames \n",
      "mdata_weightloss.columns =  [fix_colname(col) for col in mdata_weightloss.columns]"
     ],
     "language": "python",
     "metadata": {},
     "outputs": [],
     "prompt_number": 19
    },
    {
     "cell_type": "code",
     "collapsed": false,
     "input": [
      "proj = syn.get('syn2395480')\n",
      "\n",
      "mdata_schema  = synapseclient.Schema(name='Ferrets Weightloss Metadata', \n",
      "                                     columns = synapseclient.as_table_columns(mdata_weightloss),\n",
      "                                     parent = proj)\n",
      "mdata_table = synapseclient.Table(mdata_schema, mdata_weightloss)\n",
      "mdata_table = syn.store(mdata_table)"
     ],
     "language": "python",
     "metadata": {},
     "outputs": [
      {
       "output_type": "stream",
       "stream": "stdout",
       "text": [
        "."
       ]
      },
      {
       "output_type": "stream",
       "stream": "stdout",
       "text": [
        "."
       ]
      },
      {
       "output_type": "stream",
       "stream": "stdout",
       "text": [
        ","
       ]
      },
      {
       "output_type": "stream",
       "stream": "stdout",
       "text": [
        "!"
       ]
      },
      {
       "output_type": "stream",
       "stream": "stdout",
       "text": [
        "!\n"
       ]
      },
      {
       "output_type": "stream",
       "stream": "stdout",
       "text": [
        "Upload completed in 3 seconds.\n"
       ]
      },
      {
       "output_type": "stream",
       "stream": "stdout",
       "text": [
        "...\n"
       ]
      },
      {
       "output_type": "stream",
       "stream": "stdout",
       "text": [
        "\n"
       ]
      }
     ],
     "prompt_number": 20
    },
    {
     "cell_type": "markdown",
     "metadata": {},
     "source": [
      "### Pull the Ferret Id data"
     ]
    },
    {
     "cell_type": "code",
     "collapsed": false,
     "input": [
      "ferret_mdata = syn.get('syn2828019')\n",
      "ferret_mdata = pd.read_excel(ferret_mdata.path)"
     ],
     "language": "python",
     "metadata": {},
     "outputs": [],
     "prompt_number": 32
    },
    {
     "cell_type": "code",
     "collapsed": false,
     "input": [
      "#fix colnames \n",
      "ferret_mdata.columns = [fix_colname(col) for col in ferret_mdata.columns]"
     ],
     "language": "python",
     "metadata": {},
     "outputs": [],
     "prompt_number": 33
    },
    {
     "cell_type": "code",
     "collapsed": false,
     "input": [
      "ferret_mdata_schema  = synapseclient.Schema(name='Ferrets Metadata', \n",
      "                                     columns = synapseclient.table.as_table_columns(ferret_mdata),\n",
      "                                     parent = proj)\n",
      "\n",
      "ferret_mdata = synapseclient.Table(ferret_mdata_schema, ferret_mdata)\n",
      "ferret_mdata = syn.store(ferret_mdata)"
     ],
     "language": "python",
     "metadata": {},
     "outputs": [
      {
       "output_type": "stream",
       "stream": "stdout",
       "text": [
        "."
       ]
      },
      {
       "output_type": "stream",
       "stream": "stdout",
       "text": [
        "."
       ]
      },
      {
       "output_type": "stream",
       "stream": "stdout",
       "text": [
        ","
       ]
      },
      {
       "output_type": "stream",
       "stream": "stdout",
       "text": [
        "!"
       ]
      },
      {
       "output_type": "stream",
       "stream": "stdout",
       "text": [
        "!"
       ]
      },
      {
       "output_type": "stream",
       "stream": "stdout",
       "text": [
        "!\n"
       ]
      },
      {
       "output_type": "stream",
       "stream": "stdout",
       "text": [
        "Upload completed in 5 seconds.\n",
        "Starting..."
       ]
      },
      {
       "output_type": "stream",
       "stream": "stdout",
       "text": [
        "...0\n"
       ]
      },
      {
       "output_type": "stream",
       "stream": "stdout",
       "text": [
        "\n"
       ]
      }
     ],
     "prompt_number": 34
    },
    {
     "cell_type": "code",
     "collapsed": false,
     "input": [],
     "language": "python",
     "metadata": {},
     "outputs": []
    }
   ],
   "metadata": {}
  }
 ]
}