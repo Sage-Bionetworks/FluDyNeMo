{
 "metadata": {
  "name": "",
  "signature": "sha256:dce741f9d3e57e6b0bcad5bb6fafae433592b8a4e4c20bf99fbf90f3ec8085d1"
 },
 "nbformat": 3,
 "nbformat_minor": 0,
 "worksheets": [
  {
   "cells": [
    {
     "cell_type": "code",
     "collapsed": false,
     "input": [
      "import synapseclient\n",
      "import os\n",
      "import sys\n",
      "import pandas\n",
      "\n",
      "%pylab inline\n",
      "\n",
      "sys.path.append(os.environ['HOME'] + \"/dev/appys/lib/\")\n",
      "import utils\n",
      "import synapseutils"
     ],
     "language": "python",
     "metadata": {},
     "outputs": [
      {
       "output_type": "stream",
       "stream": "stdout",
       "text": [
        "Populating the interactive namespace from numpy and matplotlib\n"
       ]
      }
     ],
     "prompt_number": 1
    },
    {
     "cell_type": "code",
     "collapsed": false,
     "input": [
      "syn = synapseclient.login()"
     ],
     "language": "python",
     "metadata": {},
     "outputs": [
      {
       "output_type": "stream",
       "stream": "stdout",
       "text": [
        "Welcome, Abhishek Pratap!\n"
       ]
      }
     ],
     "prompt_number": 2
    },
    {
     "cell_type": "markdown",
     "metadata": {},
     "source": [
      "## Get me the data for all RNA samples"
     ]
    },
    {
     "cell_type": "code",
     "collapsed": false,
     "input": [
      "mdata = syn.query('select * from entity where benefactorId == \"syn2395480\" and Sample_Type == \"RNA\"' )\n",
      "mdata = synapseutils.query2df(mdata)\n",
      "mdata[['name','id', 'Day', 'Exp', 'Ferret_Identifier', 'Ferret_Sample_ID', 'Run_Type', 'type', 'Sample_Type']]"
     ],
     "language": "python",
     "metadata": {},
     "outputs": [
      {
       "html": [
        "<div style=\"max-height:1000px;max-width:1500px;overflow:auto;\">\n",
        "<table border=\"1\" class=\"dataframe\">\n",
        "  <thead>\n",
        "    <tr style=\"text-align: right;\">\n",
        "      <th></th>\n",
        "      <th>name</th>\n",
        "      <th>id</th>\n",
        "      <th>Day</th>\n",
        "      <th>Exp</th>\n",
        "      <th>Ferret_Identifier</th>\n",
        "      <th>Ferret_Sample_ID</th>\n",
        "      <th>Run_Type</th>\n",
        "      <th>type</th>\n",
        "      <th>Sample_Type</th>\n",
        "    </tr>\n",
        "  </thead>\n",
        "  <tbody>\n",
        "    <tr>\n",
        "      <th>0</th>\n",
        "      <td> 164805720_ATCACG_L1_H80HUADXX.bam</td>\n",
        "      <td> syn2887888</td>\n",
        "      <td> -2</td>\n",
        "      <td> CB1001</td>\n",
        "      <td> 8382</td>\n",
        "      <td> None</td>\n",
        "      <td> HiSeq</td>\n",
        "      <td> RNAseq</td>\n",
        "      <td> RNA</td>\n",
        "    </tr>\n",
        "    <tr>\n",
        "      <th>1</th>\n",
        "      <td> 164805774_TGACCA_L2_H80HUADXX.bam</td>\n",
        "      <td> syn2887922</td>\n",
        "      <td>  3</td>\n",
        "      <td> CB1001</td>\n",
        "      <td> 8382</td>\n",
        "      <td> None</td>\n",
        "      <td> HiSeq</td>\n",
        "      <td> RNAseq</td>\n",
        "      <td> RNA</td>\n",
        "    </tr>\n",
        "    <tr>\n",
        "      <th>2</th>\n",
        "      <td> 164805773_GGTAGC_L2_H80HUADXX.bam</td>\n",
        "      <td> syn2888000</td>\n",
        "      <td>  5</td>\n",
        "      <td> CB1001</td>\n",
        "      <td> 8382</td>\n",
        "      <td> None</td>\n",
        "      <td> HiSeq</td>\n",
        "      <td> RNAseq</td>\n",
        "      <td> RNA</td>\n",
        "    </tr>\n",
        "  </tbody>\n",
        "</table>\n",
        "</div>"
       ],
       "metadata": {},
       "output_type": "pyout",
       "prompt_number": 21,
       "text": [
        "                                name          id Day     Exp  \\\n",
        "0  164805720_ATCACG_L1_H80HUADXX.bam  syn2887888  -2  CB1001   \n",
        "1  164805774_TGACCA_L2_H80HUADXX.bam  syn2887922   3  CB1001   \n",
        "2  164805773_GGTAGC_L2_H80HUADXX.bam  syn2888000   5  CB1001   \n",
        "\n",
        "  Ferret_Identifier Ferret_Sample_ID Run_Type    type Sample_Type  \n",
        "0              8382             None    HiSeq  RNAseq         RNA  \n",
        "1              8382             None    HiSeq  RNAseq         RNA  \n",
        "2              8382             None    HiSeq  RNAseq         RNA  "
       ]
      }
     ],
     "prompt_number": 21
    },
    {
     "cell_type": "code",
     "collapsed": false,
     "input": [],
     "language": "python",
     "metadata": {},
     "outputs": [],
     "prompt_number": 20
    },
    {
     "cell_type": "code",
     "collapsed": false,
     "input": [],
     "language": "python",
     "metadata": {},
     "outputs": []
    }
   ],
   "metadata": {}
  }
 ]
}