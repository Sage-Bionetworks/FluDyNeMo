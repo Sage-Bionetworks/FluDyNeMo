{
 "metadata": {
  "name": "",
  "signature": "sha256:c1096deef6e481624941e245d87e50b17a0778ff849db70245ec3e040365e0dd"
 },
 "nbformat": 3,
 "nbformat_minor": 0,
 "worksheets": [
  {
   "cells": [
    {
     "cell_type": "code",
     "collapsed": false,
     "input": [
      "import synapseclient\n",
      "import tempfile\n",
      "import random\n",
      "import math\n",
      "import os\n",
      "import sys\n",
      "import pandas\n",
      "\n",
      "%pylab inline\n",
      "\n",
      "sys.path.append(os.environ['HOME'] + \"/dev/appys/lib/\")\n",
      "import utils\n",
      "import synapseutils"
     ],
     "language": "python",
     "metadata": {},
     "outputs": [
      {
       "output_type": "stream",
       "stream": "stdout",
       "text": [
        "Populating the interactive namespace from numpy and matplotlib\n"
       ]
      },
      {
       "output_type": "stream",
       "stream": "stderr",
       "text": [
        "WARNING: pylab import has clobbered these variables: ['random', 'f']\n",
        "`%matplotlib` prevents importing * from pylab and numpy\n"
       ]
      }
     ],
     "prompt_number": 45
    },
    {
     "cell_type": "code",
     "collapsed": false,
     "input": [
      "syn = synapseclient.login()"
     ],
     "language": "python",
     "metadata": {},
     "outputs": [
      {
       "output_type": "stream",
       "stream": "stderr",
       "text": [
        "Welcome, Abhishek Pratap!\n"
       ]
      }
     ],
     "prompt_number": 2
    },
    {
     "cell_type": "code",
     "collapsed": false,
     "input": [
      "#Generic class to create datastructure for a ferret\n",
      "\n",
      "class Ferret(object):\n",
      "    \n",
      "    def __init__(self,syn,ferretName,parentID,annotations=None):        \n",
      "        self.parentID = parentID\n",
      "        self.ferretName = ferretName\n",
      "        \n",
      "        if annotations is None:\n",
      "            annotations = {'ferret':ferretName}\n",
      "        \n",
      "        #create the ferret data bucket\n",
      "        self.__ferret__ = syn.store(synapseclient.Folder(ferretName, parent= parentID, annotations=annotations ))\n",
      "        self.id = self.__ferret__.id\n",
      "        \n",
      "        #assays for ferret\n",
      "        self.mRNA = syn.store(synapseclient.Folder('mRNA', parent= self.id, annotations=annotations ))\n",
      "        self.microRNA = syn.store(synapseclient.Folder('microRNA', parent= self.id, annotations=annotations ))\n",
      "        self.sixteenS = syn.store(synapseclient.Folder('16S', parent= self.id, annotations=annotations ))\n",
      "        self.lincRNA = syn.store(synapseclient.Folder('lincRNA', parent= self.id, annotations=annotations ))\n",
      "    "
     ],
     "language": "python",
     "metadata": {},
     "outputs": [],
     "prompt_number": 4
    },
    {
     "cell_type": "code",
     "collapsed": false,
     "input": [
      "#create 10 dummey ferrets\n",
      "parentFolder = 'syn2443444'\n",
      "ferrets = [ Ferret(syn, 'ferret_'+str(i),parentFolder ) for i in xrange(1,11,1)]"
     ],
     "language": "python",
     "metadata": {},
     "outputs": [],
     "prompt_number": 13
    },
    {
     "cell_type": "markdown",
     "metadata": {},
     "source": [
      "#### 1. push in the mRNA seq data"
     ]
    },
    {
     "cell_type": "code",
     "collapsed": false,
     "input": [
      "common_annotations = {'center' : 'MSSM' , 'dataType': 'RNASeq', }\n",
      "ages = ['N10', 'N50', 'N100']\n",
      "\n",
      "\n",
      "for f in ferrets:\n",
      "    for age in ages:\n",
      "        readCount = random.randint(pow(10,5),pow(100,5))\n",
      "        mappedReads = random.randint(80,95)\n",
      "        \n",
      "        annotations = {'readCount':readCount, 'mappedReads':mappedReads, 'age': age, 'ferret': f.ferretName}\n",
      "        annotations = dict(annotations,**common_annotations)\n",
      "        \n",
      "        bam = '%s_age%s_mRNA.bam' % (f.ferretName, age)\n",
      "        fh = open(bam, 'w')\n",
      "        fh.write('dummy')\n",
      "        fh.close()\n",
      "        syn.store( synapseclient.File(bam, parent= f.mRNA.id, annotations=annotations ),\n",
      "                  used = 'ftp://ftp-trace.ncbi.nlm.nih.gov/sra/sra-instant/reads/ByRun/sra/SRR/SRR155/SRR1554380/SRR1554380.sra',\n",
      "                  executed = 'https://github.com/Sage-Bionetworks/FluDyNeMo')\n",
      "        os.remove(bam)\n"
     ],
     "language": "python",
     "metadata": {},
     "outputs": []
    },
    {
     "cell_type": "markdown",
     "metadata": {},
     "source": [
      "### Query the data"
     ]
    },
    {
     "cell_type": "code",
     "collapsed": false,
     "input": [
      "df = syn.query(\"select * from entity where benefactorId == 'syn2395480'\")\n",
      "df = synapseutils.query2df(df)\n",
      "mappedReads = rnaSeqData.pivot(index='ferret', columns='age', values='mappedReads')\n",
      "?mappedReads.plot(kind='bar', y_label='% mapped reads')"
     ],
     "language": "python",
     "metadata": {},
     "outputs": [],
     "prompt_number": 103
    },
    {
     "cell_type": "code",
     "collapsed": false,
     "input": [
      "rnaSeqData = df.query('dataType == \"RNASeq\"')"
     ],
     "language": "python",
     "metadata": {},
     "outputs": [],
     "prompt_number": 94
    },
    {
     "cell_type": "code",
     "collapsed": false,
     "input": [],
     "language": "python",
     "metadata": {},
     "outputs": [
      {
       "html": [
        "<div style=\"max-height:1000px;max-width:1500px;overflow:auto;\">\n",
        "<table border=\"1\" class=\"dataframe\">\n",
        "  <thead>\n",
        "    <tr style=\"text-align: right;\">\n",
        "      <th>age</th>\n",
        "      <th>N10</th>\n",
        "      <th>N100</th>\n",
        "      <th>N50</th>\n",
        "    </tr>\n",
        "    <tr>\n",
        "      <th>ferret</th>\n",
        "      <th></th>\n",
        "      <th></th>\n",
        "      <th></th>\n",
        "    </tr>\n",
        "  </thead>\n",
        "  <tbody>\n",
        "    <tr>\n",
        "      <th>ferret_1</th>\n",
        "      <td> 3772910090</td>\n",
        "      <td>   44458986</td>\n",
        "      <td> 8011065323</td>\n",
        "    </tr>\n",
        "    <tr>\n",
        "      <th>ferret_10</th>\n",
        "      <td> 8765273826</td>\n",
        "      <td> 1979185922</td>\n",
        "      <td> 3996791454</td>\n",
        "    </tr>\n",
        "    <tr>\n",
        "      <th>ferret_2</th>\n",
        "      <td> 7150504314</td>\n",
        "      <td> 3532748932</td>\n",
        "      <td> 4426409221</td>\n",
        "    </tr>\n",
        "    <tr>\n",
        "      <th>ferret_3</th>\n",
        "      <td> 6623882825</td>\n",
        "      <td> 8321984553</td>\n",
        "      <td> 4142815157</td>\n",
        "    </tr>\n",
        "    <tr>\n",
        "      <th>ferret_4</th>\n",
        "      <td> 3984297024</td>\n",
        "      <td> 6401974550</td>\n",
        "      <td> 2114592135</td>\n",
        "    </tr>\n",
        "    <tr>\n",
        "      <th>ferret_5</th>\n",
        "      <td> 2758623826</td>\n",
        "      <td> 2233371228</td>\n",
        "      <td> 8299071789</td>\n",
        "    </tr>\n",
        "    <tr>\n",
        "      <th>ferret_6</th>\n",
        "      <td> 9603352867</td>\n",
        "      <td>  827742993</td>\n",
        "      <td> 7674159466</td>\n",
        "    </tr>\n",
        "    <tr>\n",
        "      <th>ferret_7</th>\n",
        "      <td> 9789003264</td>\n",
        "      <td> 4837357186</td>\n",
        "      <td>  592276302</td>\n",
        "    </tr>\n",
        "    <tr>\n",
        "      <th>ferret_8</th>\n",
        "      <td> 5260419144</td>\n",
        "      <td> 3615362214</td>\n",
        "      <td> 9532623396</td>\n",
        "    </tr>\n",
        "    <tr>\n",
        "      <th>ferret_9</th>\n",
        "      <td> 5779201693</td>\n",
        "      <td> 9177843966</td>\n",
        "      <td> 1980863243</td>\n",
        "    </tr>\n",
        "  </tbody>\n",
        "</table>\n",
        "</div>"
       ],
       "metadata": {},
       "output_type": "pyout",
       "prompt_number": 97,
       "text": [
        "age               N10        N100         N50\n",
        "ferret                                       \n",
        "ferret_1   3772910090    44458986  8011065323\n",
        "ferret_10  8765273826  1979185922  3996791454\n",
        "ferret_2   7150504314  3532748932  4426409221\n",
        "ferret_3   6623882825  8321984553  4142815157\n",
        "ferret_4   3984297024  6401974550  2114592135\n",
        "ferret_5   2758623826  2233371228  8299071789\n",
        "ferret_6   9603352867   827742993  7674159466\n",
        "ferret_7   9789003264  4837357186   592276302\n",
        "ferret_8   5260419144  3615362214  9532623396\n",
        "ferret_9   5779201693  9177843966  1980863243"
       ]
      }
     ],
     "prompt_number": 97
    },
    {
     "cell_type": "code",
     "collapsed": false,
     "input": [
      "rnaSeqData[['mappedReads']].plot(kind=\"line\")"
     ],
     "language": "python",
     "metadata": {},
     "outputs": [
      {
       "metadata": {},
       "output_type": "pyout",
       "prompt_number": 70,
       "text": [
        "<matplotlib.axes.AxesSubplot at 0x10b7e68d0>"
       ]
      },
      {
       "metadata": {},
       "output_type": "display_data",
       "png": "[encoded data removed]",
       "text": [
        "<matplotlib.figure.Figure at 0x10b1dc550>"
       ]
      }
     ],
     "prompt_number": 70
    },
    {
     "cell_type": "code",
     "collapsed": false,
     "input": [
      "g = rnaSeqData.reset_index()\n",
      "g = g[['ferret','age','mappedReads']].groupby(['ferret'])"
     ],
     "language": "python",
     "metadata": {},
     "outputs": [],
     "prompt_number": 88
    },
    {
     "cell_type": "code",
     "collapsed": false,
     "input": [],
     "language": "python",
     "metadata": {},
     "outputs": []
    }
   ],
   "metadata": {}
  }
 ]
}