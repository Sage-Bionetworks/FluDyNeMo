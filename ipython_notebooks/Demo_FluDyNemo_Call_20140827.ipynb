{
 "metadata": {
  "name": "",
  "signature": "sha256:35c69d610c4aadb753826f697176e3a88e924fc25a44a6344842838bb7c006e0"
 },
 "nbformat": 3,
 "nbformat_minor": 0,
 "worksheets": [
  {
   "cells": [
    {
     "cell_type": "markdown",
     "metadata": {},
     "source": [
      "#### _Demo_ : FluDyNemo Call : 8/28/2014"
     ]
    },
    {
     "cell_type": "code",
     "collapsed": false,
     "input": [
      "import synapseclient\n",
      "import tempfile\n",
      "import random\n",
      "import math\n",
      "import os\n",
      "import sys\n",
      "import pandas\n",
      "\n",
      "%pylab inline\n",
      "\n",
      "sys.path.append(os.environ['HOME'] + \"/dev/appys/lib/\")\n",
      "import utils\n",
      "import synapseutils"
     ],
     "language": "python",
     "metadata": {},
     "outputs": [
      {
       "output_type": "stream",
       "stream": "stdout",
       "text": [
        "Populating the interactive namespace from numpy and matplotlib\n"
       ]
      },
      {
       "output_type": "stream",
       "stream": "stderr",
       "text": [
        "WARNING: pylab import has clobbered these variables: ['random']\n",
        "`%matplotlib` prevents importing * from pylab and numpy\n"
       ]
      }
     ],
     "prompt_number": 24
    },
    {
     "cell_type": "code",
     "collapsed": false,
     "input": [
      "syn = synapseclient.login()"
     ],
     "language": "python",
     "metadata": {},
     "outputs": [
      {
       "output_type": "stream",
       "stream": "stderr",
       "text": [
        "Welcome, Abhishek Pratap!\n"
       ]
      }
     ],
     "prompt_number": 25
    },
    {
     "cell_type": "code",
     "collapsed": false,
     "input": [
      "fh = open('ferret1_ageN100_microRNA.bam','w')\n",
      "fh.write('dummy')\n",
      "fh.close()"
     ],
     "language": "python",
     "metadata": {},
     "outputs": [],
     "prompt_number": 26
    },
    {
     "cell_type": "code",
     "collapsed": false,
     "input": [],
     "language": "python",
     "metadata": {},
     "outputs": []
    },
    {
     "cell_type": "code",
     "collapsed": false,
     "input": [],
     "language": "python",
     "metadata": {},
     "outputs": []
    },
    {
     "cell_type": "code",
     "collapsed": false,
     "input": [],
     "language": "python",
     "metadata": {},
     "outputs": []
    },
    {
     "cell_type": "markdown",
     "metadata": {},
     "source": [
      "### _Demo_ : FluDyNemo Call : 8/28/2014"
     ]
    },
    {
     "cell_type": "markdown",
     "metadata": {},
     "source": [
      "#### 1. Push a new file to the project"
     ]
    },
    {
     "cell_type": "code",
     "collapsed": false,
     "input": [
      "f = synapseclient.File('ferret1_ageN100_microRNA.bam', parentId = 'syn2652744')\n",
      "f = syn.store(f)"
     ],
     "language": "python",
     "metadata": {},
     "outputs": [
      {
       "output_type": "stream",
       "stream": "stdout",
       "text": [
        "."
       ]
      },
      {
       "output_type": "stream",
       "stream": "stdout",
       "text": [
        "."
       ]
      },
      {
       "output_type": "stream",
       "stream": "stdout",
       "text": [
        ","
       ]
      },
      {
       "output_type": "stream",
       "stream": "stdout",
       "text": [
        "!"
       ]
      },
      {
       "output_type": "stream",
       "stream": "stdout",
       "text": [
        "!\n"
       ]
      },
      {
       "output_type": "stream",
       "stream": "stdout",
       "text": [
        "Upload completed in 3 seconds.\n"
       ]
      }
     ],
     "prompt_number": 27
    },
    {
     "cell_type": "markdown",
     "metadata": {},
     "source": [
      "#### 2. Push a new file to the project (with Provenance)"
     ]
    },
    {
     "cell_type": "code",
     "collapsed": false,
     "input": [
      "f = synapseclient.File('ferret1_ageN100_microRNA.bam', parentId = 'syn2652744')\n",
      "f = syn.store(f, \n",
      "              used = 'ftp://ftp-trace.ncbi.nlm.nih.gov/',\n",
      "              executed = 'https://github.com/Sage-Bionetworks/FluDyNeMo')"
     ],
     "language": "python",
     "metadata": {},
     "outputs": [],
     "prompt_number": 28
    },
    {
     "cell_type": "markdown",
     "metadata": {},
     "source": [
      "#### 3. Query Data from Synapse\n",
      "Find out RNA-Seq readcounts for all the ferrets grouped by age"
     ]
    },
    {
     "cell_type": "code",
     "collapsed": false,
     "input": [
      "df = syn.query(\"select * from entity where benefactorId == 'syn2395480'\")\n",
      "df = synapseutils.query2df(df)\n",
      "rnaSeqData = df.query('dataType == \"RNASeq\"')\n",
      "pivotData = rnaSeqData.pivot(index='ferret', columns='age', values='readCount')\n",
      "pivotData"
     ],
     "language": "python",
     "metadata": {},
     "outputs": [
      {
       "html": [
        "<div style=\"max-height:1000px;max-width:1500px;overflow:auto;\">\n",
        "<table border=\"1\" class=\"dataframe\">\n",
        "  <thead>\n",
        "    <tr style=\"text-align: right;\">\n",
        "      <th>age</th>\n",
        "      <th>N10</th>\n",
        "      <th>N100</th>\n",
        "      <th>N50</th>\n",
        "    </tr>\n",
        "    <tr>\n",
        "      <th>ferret</th>\n",
        "      <th></th>\n",
        "      <th></th>\n",
        "      <th></th>\n",
        "    </tr>\n",
        "  </thead>\n",
        "  <tbody>\n",
        "    <tr>\n",
        "      <th>ferret_1</th>\n",
        "      <td> 3772910090</td>\n",
        "      <td>   44458986</td>\n",
        "      <td> 8011065323</td>\n",
        "    </tr>\n",
        "    <tr>\n",
        "      <th>ferret_10</th>\n",
        "      <td> 8765273826</td>\n",
        "      <td> 1979185922</td>\n",
        "      <td> 3996791454</td>\n",
        "    </tr>\n",
        "    <tr>\n",
        "      <th>ferret_2</th>\n",
        "      <td> 7150504314</td>\n",
        "      <td> 3532748932</td>\n",
        "      <td> 4426409221</td>\n",
        "    </tr>\n",
        "    <tr>\n",
        "      <th>ferret_3</th>\n",
        "      <td> 6623882825</td>\n",
        "      <td> 8321984553</td>\n",
        "      <td> 4142815157</td>\n",
        "    </tr>\n",
        "    <tr>\n",
        "      <th>ferret_4</th>\n",
        "      <td> 3984297024</td>\n",
        "      <td> 6401974550</td>\n",
        "      <td> 2114592135</td>\n",
        "    </tr>\n",
        "    <tr>\n",
        "      <th>ferret_5</th>\n",
        "      <td> 2758623826</td>\n",
        "      <td> 2233371228</td>\n",
        "      <td> 8299071789</td>\n",
        "    </tr>\n",
        "    <tr>\n",
        "      <th>ferret_6</th>\n",
        "      <td> 9603352867</td>\n",
        "      <td>  827742993</td>\n",
        "      <td> 7674159466</td>\n",
        "    </tr>\n",
        "    <tr>\n",
        "      <th>ferret_7</th>\n",
        "      <td> 9789003264</td>\n",
        "      <td> 4837357186</td>\n",
        "      <td>  592276302</td>\n",
        "    </tr>\n",
        "    <tr>\n",
        "      <th>ferret_8</th>\n",
        "      <td> 5260419144</td>\n",
        "      <td> 3615362214</td>\n",
        "      <td> 9532623396</td>\n",
        "    </tr>\n",
        "    <tr>\n",
        "      <th>ferret_9</th>\n",
        "      <td> 5779201693</td>\n",
        "      <td> 9177843966</td>\n",
        "      <td> 1980863243</td>\n",
        "    </tr>\n",
        "  </tbody>\n",
        "</table>\n",
        "</div>"
       ],
       "metadata": {},
       "output_type": "pyout",
       "prompt_number": 29,
       "text": [
        "age               N10        N100         N50\n",
        "ferret                                       \n",
        "ferret_1   3772910090    44458986  8011065323\n",
        "ferret_10  8765273826  1979185922  3996791454\n",
        "ferret_2   7150504314  3532748932  4426409221\n",
        "ferret_3   6623882825  8321984553  4142815157\n",
        "ferret_4   3984297024  6401974550  2114592135\n",
        "ferret_5   2758623826  2233371228  8299071789\n",
        "ferret_6   9603352867   827742993  7674159466\n",
        "ferret_7   9789003264  4837357186   592276302\n",
        "ferret_8   5260419144  3615362214  9532623396\n",
        "ferret_9   5779201693  9177843966  1980863243"
       ]
      }
     ],
     "prompt_number": 29
    },
    {
     "cell_type": "markdown",
     "metadata": {},
     "source": [
      "#### 4. Plot the summary Data"
     ]
    },
    {
     "cell_type": "code",
     "collapsed": false,
     "input": [
      "ax = pivotData.plot(kind='barh')\n",
      "ax.legend(fontsize='x-small')"
     ],
     "language": "python",
     "metadata": {},
     "outputs": [
      {
       "metadata": {},
       "output_type": "pyout",
       "prompt_number": 30,
       "text": [
        "<matplotlib.legend.Legend at 0x100533dd0>"
       ]
      },
      {
       "metadata": {},
       "output_type": "display_data",
       "png": "[encoded data removed]",
       "text": [
        "<matplotlib.figure.Figure at 0x1005331d0>"
       ]
      }
     ],
     "prompt_number": 30
    },
    {
     "cell_type": "markdown",
     "metadata": {},
     "source": [
      "#### 5. Push the summary to Synapse"
     ]
    },
    {
     "cell_type": "code",
     "collapsed": false,
     "input": [
      "columns = ['ferret','age', 'id','center', 'mappedReads', 'readCount', 'versionNumber']\n",
      "summary = rnaSeqData[columns].set_index('ferret')\n",
      "_ = synapseutils.push_DF_to_synLeaderboard(summary, wikiEntity='syn2653043', syn=syn)"
     ],
     "language": "python",
     "metadata": {},
     "outputs": [],
     "prompt_number": 31
    }
   ],
   "metadata": {}
  }
 ]
}