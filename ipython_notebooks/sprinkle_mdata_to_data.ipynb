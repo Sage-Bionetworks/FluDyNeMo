{
 "metadata": {
  "name": "",
  "signature": "sha256:32f93c5f4288e7770230ee4ed2874681df9f4a962261db7e5a563a5a62bd4325"
 },
 "nbformat": 3,
 "nbformat_minor": 0,
 "worksheets": [
  {
   "cells": [
    {
     "cell_type": "code",
     "collapsed": false,
     "input": [
      "import synapseclient\n",
      "import pandas as pd\n",
      "import os\n",
      "%load_ext autoreload\n",
      "%autoreload 2\n",
      "%pylab inline\n",
      "\n",
      "sys.path.append(os.environ['HOME'] + \"/dev/appys/lib/\")\n",
      "import utils\n",
      "import synapseutils"
     ],
     "language": "python",
     "metadata": {},
     "outputs": [
      {
       "output_type": "stream",
       "stream": "stdout",
       "text": [
        "The autoreload extension is already loaded. To reload it, use:\n",
        "  %reload_ext autoreload\n",
        "Populating the interactive namespace from numpy and matplotlib\n"
       ]
      }
     ],
     "prompt_number": 6
    },
    {
     "cell_type": "code",
     "collapsed": false,
     "input": [
      "syn = synapseclient.login()"
     ],
     "language": "python",
     "metadata": {},
     "outputs": [
      {
       "output_type": "stream",
       "stream": "stdout",
       "text": [
        "Welcome, Abhishek Pratap!\n"
       ]
      }
     ],
     "prompt_number": 7
    },
    {
     "cell_type": "markdown",
     "metadata": {},
     "source": [
      "### Get the list of files to be annotated"
     ]
    },
    {
     "cell_type": "code",
     "collapsed": false,
     "input": [
      "synids = synapseutils.getDescendants_synids('syn2858232', syn)"
     ],
     "language": "python",
     "metadata": {},
     "outputs": [],
     "prompt_number": 8
    },
    {
     "cell_type": "code",
     "collapsed": false,
     "input": [
      "#get the mdata\n",
      "mdata = syn.tableQuery(\"select * from syn3226609\").asDataFrame()\n",
      "mdata.Data_Sample_ID = mdata.Data_Sample_ID.astype(str)"
     ],
     "language": "python",
     "metadata": {},
     "outputs": [
      {
       "output_type": "stream",
       "stream": "stdout",
       "text": [
        "...\n"
       ]
      },
      {
       "output_type": "stream",
       "stream": "stdout",
       "text": [
        "\n",
        "\r",
        " [--------------------]0.00% \t0.0bytes/2.8kB     "
       ]
      },
      {
       "output_type": "stream",
       "stream": "stdout",
       "text": [
        "\r",
        " [####################]100.00% \t2.8kB/2.8kB Done...\r\n",
        "    "
       ]
      }
     ],
     "prompt_number": 13
    },
    {
     "cell_type": "code",
     "collapsed": false,
     "input": [
      "for synid in synids:\n",
      "    \n",
      "    sample = syn.get(synid, downloadFile=False)\n",
      "\n",
      "    #this is strictly hardcoded convention\n",
      "    sample_name = sample.name.split('_')[0]\n",
      "    \n",
      "    #get the sample metadata\n",
      "    sample_mdata = mdata[mdata.Data_Sample_ID == sample_name].squeeze()\n",
      "    \n",
      "    #sprinkle metadata\n",
      "    sample.annotations = dict(sample.annotations, **sample_mdata)\n",
      "    \n",
      "    sample = syn.store(sample)\n",
      "    "
     ],
     "language": "python",
     "metadata": {},
     "outputs": [],
     "prompt_number": 15
    },
    {
     "cell_type": "code",
     "collapsed": false,
     "input": [
      "for synid in synids:\n",
      "    s = syn.get(synid, downloadFile = False)\n",
      "    print s.name\n",
      "     #get the sample metadata\n",
      "    sample_mdata = mdata[mdata.Data_Sample_ID == sample_name].squeeze()\n",
      "    \n",
      "    print sample_mdata\n",
      "    break"
     ],
     "language": "python",
     "metadata": {},
     "outputs": [
      {
       "output_type": "stream",
       "stream": "stdout",
       "text": [
        "164805769_CATTTT_L1_H80HUADXX.bam\n",
        "Ferret_Identifier           8382\n",
        "Exp                       CB1001\n",
        "Ferret_Sample_ID            None\n",
        "Data_Sample_ID         164805773\n",
        "Sample_Type                  RNA\n",
        "Sample_Description         Blood\n",
        "Day                            5\n",
        "Index_Barcode             GGTAGC\n",
        "Concentration_ng_uL         23.8\n",
        "Volume_uL                    100\n",
        "Total_ug                    2.38\n",
        "260_280                     None\n",
        "260_230                     None\n",
        "Run_Type                   HiSeq\n",
        "Read_Length             100nt PE\n",
        "Data_File_Name              None\n",
        "Name: 4-0, dtype: object\n"
       ]
      }
     ],
     "prompt_number": 19
    },
    {
     "cell_type": "code",
     "collapsed": false,
     "input": [],
     "language": "python",
     "metadata": {},
     "outputs": []
    }
   ],
   "metadata": {}
  }
 ]
}